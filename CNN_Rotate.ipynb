{
 "cells": [
  {
   "cell_type": "markdown",
   "metadata": {},
   "source": [
    "# <span style='color:blue'> Importando os pacotes necessarios</span>"
   ]
  },
  {
   "cell_type": "code",
   "execution_count": null,
   "metadata": {},
   "outputs": [],
   "source": [
    "import pandas as pd\n",
    "import cv2\n",
    "import numpy as np\n",
    "import matplotlib.pyplot as plt\n",
    "%matplotlib inline"
   ]
  },
  {
   "cell_type": "markdown",
   "metadata": {},
   "source": [
    "# Checando a tabela verdade"
   ]
  },
  {
   "cell_type": "markdown",
   "metadata": {},
   "source": [
    "### Esta tabela contem os dados que serao nosso y_train"
   ]
  },
  {
   "cell_type": "code",
   "execution_count": null,
   "metadata": {},
   "outputs": [],
   "source": [
    "truth_table = pd.read_csv('DATA/train.truth.csv')"
   ]
  },
  {
   "cell_type": "code",
   "execution_count": 3,
   "metadata": {},
   "outputs": [
    {
     "data": {
      "text/html": [
       "<div>\n",
       "<style scoped>\n",
       "    .dataframe tbody tr th:only-of-type {\n",
       "        vertical-align: middle;\n",
       "    }\n",
       "\n",
       "    .dataframe tbody tr th {\n",
       "        vertical-align: top;\n",
       "    }\n",
       "\n",
       "    .dataframe thead th {\n",
       "        text-align: right;\n",
       "    }\n",
       "</style>\n",
       "<table border=\"1\" class=\"dataframe\">\n",
       "  <thead>\n",
       "    <tr style=\"text-align: right;\">\n",
       "      <th></th>\n",
       "      <th>fn</th>\n",
       "      <th>label</th>\n",
       "    </tr>\n",
       "  </thead>\n",
       "  <tbody>\n",
       "    <tr>\n",
       "      <th>0</th>\n",
       "      <td>0-10049200_1891-09-16_1958.jpg</td>\n",
       "      <td>rotated_left</td>\n",
       "    </tr>\n",
       "    <tr>\n",
       "      <th>1</th>\n",
       "      <td>0-10110600_1985-09-17_2012.jpg</td>\n",
       "      <td>rotated_left</td>\n",
       "    </tr>\n",
       "    <tr>\n",
       "      <th>2</th>\n",
       "      <td>0-10126400_1964-07-07_2010.jpg</td>\n",
       "      <td>upright</td>\n",
       "    </tr>\n",
       "    <tr>\n",
       "      <th>3</th>\n",
       "      <td>0-1013900_1917-10-15_1960.jpg</td>\n",
       "      <td>rotated_right</td>\n",
       "    </tr>\n",
       "    <tr>\n",
       "      <th>4</th>\n",
       "      <td>0-10166400_1960-03-12_2008.jpg</td>\n",
       "      <td>upside_down</td>\n",
       "    </tr>\n",
       "  </tbody>\n",
       "</table>\n",
       "</div>"
      ],
      "text/plain": [
       "                               fn          label\n",
       "0  0-10049200_1891-09-16_1958.jpg   rotated_left\n",
       "1  0-10110600_1985-09-17_2012.jpg   rotated_left\n",
       "2  0-10126400_1964-07-07_2010.jpg        upright\n",
       "3   0-1013900_1917-10-15_1960.jpg  rotated_right\n",
       "4  0-10166400_1960-03-12_2008.jpg    upside_down"
      ]
     },
     "execution_count": 3,
     "metadata": {},
     "output_type": "execute_result"
    }
   ],
   "source": [
    "truth_table.head()"
   ]
  },
  {
   "cell_type": "code",
   "execution_count": 4,
   "metadata": {},
   "outputs": [
    {
     "name": "stdout",
     "output_type": "stream",
     "text": [
      "<class 'pandas.core.frame.DataFrame'>\n",
      "RangeIndex: 48896 entries, 0 to 48895\n",
      "Data columns (total 2 columns):\n",
      "fn       48896 non-null object\n",
      "label    48896 non-null object\n",
      "dtypes: object(2)\n",
      "memory usage: 764.1+ KB\n"
     ]
    }
   ],
   "source": [
    "truth_table.info()"
   ]
  },
  {
   "cell_type": "markdown",
   "metadata": {},
   "source": [
    "## Separando as colunas, poderiamos ter usado o pandas, mas vamos aprender outra forma"
   ]
  },
  {
   "cell_type": "code",
   "execution_count": 5,
   "metadata": {},
   "outputs": [],
   "source": [
    "from numpy import genfromtxt\n",
    "y_train = np.array(truth_table)"
   ]
  },
  {
   "cell_type": "code",
   "execution_count": 278,
   "metadata": {},
   "outputs": [],
   "source": [
    "file_names = list(truth_table['fn'].values)\n",
    "img_label = list(truth_table['label'].values)"
   ]
  },
  {
   "cell_type": "markdown",
   "metadata": {},
   "source": [
    "### Verificando se o y_train tem o mesmo tamanho do diretorio que vamos usar para treinar(x_test)"
   ]
  },
  {
   "cell_type": "code",
   "execution_count": 277,
   "metadata": {},
   "outputs": [
    {
     "data": {
      "text/plain": [
       "(48896, 2)"
      ]
     },
     "execution_count": 277,
     "metadata": {},
     "output_type": "execute_result"
    }
   ],
   "source": [
    "y_train.shape"
   ]
  },
  {
   "cell_type": "code",
   "execution_count": 276,
   "metadata": {},
   "outputs": [],
   "source": []
  },
  {
   "cell_type": "markdown",
   "metadata": {},
   "source": [
    "## Verificando uma imagem do diretorio para ver se esta lendo corretamente"
   ]
  },
  {
   "cell_type": "code",
   "execution_count": 9,
   "metadata": {},
   "outputs": [],
   "source": [
    "img_test = cv2.imread('DATA/train/0-10110600_1985-09-17_2012.jpg')"
   ]
  },
  {
   "cell_type": "code",
   "execution_count": 275,
   "metadata": {},
   "outputs": [
    {
     "data": {
      "text/plain": [
       "(64, 64, 3)"
      ]
     },
     "execution_count": 275,
     "metadata": {},
     "output_type": "execute_result"
    }
   ],
   "source": [
    "img_test.shape"
   ]
  },
  {
   "cell_type": "code",
   "execution_count": 281,
   "metadata": {},
   "outputs": [],
   "source": [
    "img_test = cv2.cvtColor(img_test,cv2.COLOR_BGR2RGB)"
   ]
  },
  {
   "cell_type": "code",
   "execution_count": 283,
   "metadata": {},
   "outputs": [
    {
     "data": {
      "text/plain": [
       "<matplotlib.image.AxesImage at 0x1aef18ee358>"
      ]
     },
     "execution_count": 283,
     "metadata": {},
     "output_type": "execute_result"
    },
    {
     "data": {
      "image/png": "[encoded data removed]",
      "text/plain": [
       "<Figure size 432x288 with 1 Axes>"
      ]
     },
     "metadata": {
      "needs_background": "light"
     },
     "output_type": "display_data"
    }
   ],
   "source": [
    "plt.imshow(img_test)"
   ]
  },
  {
   "cell_type": "markdown",
   "metadata": {},
   "source": [
    "### Verificando quantas classes temos dentro de y_test"
   ]
  },
  {
   "cell_type": "code",
   "execution_count": 11,
   "metadata": {},
   "outputs": [
    {
     "data": {
      "text/plain": [
       "rotated_right    12314\n",
       "rotated_left     12266\n",
       "upright          12212\n",
       "upside_down      12104\n",
       "Name: label, dtype: int64"
      ]
     },
     "execution_count": 11,
     "metadata": {},
     "output_type": "execute_result"
    }
   ],
   "source": [
    "truth_table['label'].value_counts()"
   ]
  },
  {
   "cell_type": "code",
   "execution_count": 12,
   "metadata": {},
   "outputs": [],
   "source": [
    "# Imports necessarios para manipulacao das pastas no Windowns\n",
    "import os\n",
    "import shutil"
   ]
  },
  {
   "cell_type": "code",
   "execution_count": 61,
   "metadata": {},
   "outputs": [],
   "source": [
    "folders= np.unique(list(truth_table['label'].values))"
   ]
  },
  {
   "cell_type": "code",
   "execution_count": 62,
   "metadata": {},
   "outputs": [
    {
     "data": {
      "text/plain": [
       "array(['rotated_left', 'rotated_right', 'upright', 'upside_down'],\n",
       "      dtype='<U13')"
      ]
     },
     "execution_count": 62,
     "metadata": {},
     "output_type": "execute_result"
    }
   ],
   "source": [
    "folders"
   ]
  },
  {
   "cell_type": "markdown",
   "metadata": {},
   "source": [
    "### Criando as pastas para receber os arquivos de cada classe"
   ]
  },
  {
   "cell_type": "code",
   "execution_count": 111,
   "metadata": {},
   "outputs": [],
   "source": [
    "for new_path in folders:\n",
    "    if not os.path.exists('DATA/train/{}'.format(new_path)):\n",
    "        os.makedirs(new_path)\n",
    "        shutil.move('c:/Users/user/NN_Rotate/{}'.format(new_path),'DATA/train')       "
   ]
  },
  {
   "cell_type": "markdown",
   "metadata": {},
   "source": [
    "### Enviando as imagens para cada pastas separada"
   ]
  },
  {
   "cell_type": "code",
   "execution_count": 113,
   "metadata": {},
   "outputs": [],
   "source": [
    "for f in range(len(truth_table)):\n",
    "    current_img= file_names[f]\n",
    "    current_label = img_label[f]\n",
    "    shutil.move('c:/Users/user/NN_Rotate/DATA/train/{}'.format(current_img),'DATA/train/{}'.format(current_label))"
   ]
  },
  {
   "cell_type": "code",
   "execution_count": 16,
   "metadata": {},
   "outputs": [],
   "source": [
    "input_shape = (64,64,3)"
   ]
  },
  {
   "cell_type": "code",
   "execution_count": 17,
   "metadata": {},
   "outputs": [],
   "source": [
    "## Pre processamento de imagens do keras, facilitando a vida da nossa rede neural \n",
    "from keras.preprocessing.image import ImageDataGenerator\n"
   ]
  },
  {
   "cell_type": "code",
   "execution_count": 284,
   "metadata": {},
   "outputs": [],
   "source": [
    "img_gen = ImageDataGenerator(featurewise_center=True,\n",
    "                            width_shift_range=0.2,\n",
    "                            rescale=1./255,\n",
    "                            height_shift_range=0.2,\n",
    "                            fill_mode='nearest')"
   ]
  },
  {
   "cell_type": "markdown",
   "metadata": {},
   "source": [
    "### Identificando as classes "
   ]
  },
  {
   "cell_type": "code",
   "execution_count": 40,
   "metadata": {},
   "outputs": [
    {
     "name": "stdout",
     "output_type": "stream",
     "text": [
      "Found 48896 images belonging to 4 classes.\n"
     ]
    }
   ],
   "source": [
    "train_img_gen = img_gen.flow_from_directory('DATA/train',\n",
    "                                   class_mode='categorical',\n",
    "                                   batch_size=16,\n",
    "                                   target_size=input_shape[:2])"
   ]
  },
  {
   "cell_type": "markdown",
   "metadata": {},
   "source": [
    "#### Infelizmente como nao estava em categoria o y_test nao deu para adicionar a CNN"
   ]
  },
  {
   "cell_type": "code",
   "execution_count": 41,
   "metadata": {},
   "outputs": [
    {
     "name": "stdout",
     "output_type": "stream",
     "text": [
      "Found 0 images belonging to 0 classes.\n"
     ]
    }
   ],
   "source": [
    "test_img_gen = img_gen.flow_from_directory('DATA/test',\n",
    "                                   class_mode='categorical',\n",
    "                                   batch_size=16,\n",
    "                                   target_size=input_shape[:2])"
   ]
  },
  {
   "cell_type": "code",
   "execution_count": 86,
   "metadata": {},
   "outputs": [
    {
     "data": {
      "text/plain": [
       "{'rotated_left': 0, 'rotated_right': 1, 'upright': 2, 'upside_down': 3}"
      ]
     },
     "execution_count": 86,
     "metadata": {},
     "output_type": "execute_result"
    }
   ],
   "source": [
    "# Verificando as classes\n",
    "train_img_gen.class_indices"
   ]
  },
  {
   "cell_type": "code",
   "execution_count": 43,
   "metadata": {},
   "outputs": [],
   "source": [
    "# Imports necessarios para a CNN\n",
    "from keras.models import Sequential\n",
    "from keras.layers import Activation, Dropout, Flatten, Dense, Conv2D, MaxPooling2D"
   ]
  },
  {
   "cell_type": "markdown",
   "metadata": {},
   "source": [
    "### Criando a Cnn e defindo as layers e neuronios"
   ]
  },
  {
   "cell_type": "code",
   "execution_count": 45,
   "metadata": {},
   "outputs": [],
   "source": [
    "model = Sequential()\n",
    "\n",
    "model.add(Conv2D(filters=32, kernel_size=(3,3),input_shape=input_shape, activation='relu',))\n",
    "model.add(MaxPooling2D(pool_size=(2, 2)))\n",
    "\n",
    "model.add(Conv2D(filters=128, kernel_size=(3,3),input_shape=input_shape, activation='relu',))\n",
    "model.add(MaxPooling2D(pool_size=(2, 2)))\n",
    "\n",
    "model.add(Conv2D(filters=128, kernel_size=(3,3),input_shape=input_shape, activation='relu',))\n",
    "model.add(MaxPooling2D(pool_size=(2, 2)))\n",
    "\n",
    "\n",
    "model.add(Flatten())\n",
    "\n",
    "\n",
    "model.add(Dense(128))\n",
    "model.add(Activation('relu'))\n",
    "\n",
    "# Dropouts help reduce overfitting by randomly turning neurons off during training.\n",
    "# Here we say randomly turn off 50% of neurons.\n",
    "model.add(Dropout(0.5))\n",
    "\n",
    "\n",
    "model.add(Dense(4))\n",
    "model.add(Activation('softmax'))\n",
    "\n",
    "model.compile(loss='binary_crossentropy',\n",
    "              optimizer='adam',\n",
    "              metrics=['accuracy'])"
   ]
  },
  {
   "cell_type": "code",
   "execution_count": 46,
   "metadata": {},
   "outputs": [
    {
     "name": "stdout",
     "output_type": "stream",
     "text": [
      "_________________________________________________________________\n",
      "Layer (type)                 Output Shape              Param #   \n",
      "=================================================================\n",
      "conv2d_10 (Conv2D)           (None, 62, 62, 32)        896       \n",
      "_________________________________________________________________\n",
      "max_pooling2d_10 (MaxPooling (None, 31, 31, 32)        0         \n",
      "_________________________________________________________________\n",
      "conv2d_11 (Conv2D)           (None, 29, 29, 128)       36992     \n",
      "_________________________________________________________________\n",
      "max_pooling2d_11 (MaxPooling (None, 14, 14, 128)       0         \n",
      "_________________________________________________________________\n",
      "conv2d_12 (Conv2D)           (None, 12, 12, 128)       147584    \n",
      "_________________________________________________________________\n",
      "max_pooling2d_12 (MaxPooling (None, 6, 6, 128)         0         \n",
      "_________________________________________________________________\n",
      "flatten_4 (Flatten)          (None, 4608)              0         \n",
      "_________________________________________________________________\n",
      "dense_7 (Dense)              (None, 128)               589952    \n",
      "_________________________________________________________________\n",
      "activation_7 (Activation)    (None, 128)               0         \n",
      "_________________________________________________________________\n",
      "dropout_4 (Dropout)          (None, 128)               0         \n",
      "_________________________________________________________________\n",
      "dense_8 (Dense)              (None, 4)                 516       \n",
      "_________________________________________________________________\n",
      "activation_8 (Activation)    (None, 4)                 0         \n",
      "=================================================================\n",
      "Total params: 775,940\n",
      "Trainable params: 775,940\n",
      "Non-trainable params: 0\n",
      "_________________________________________________________________\n"
     ]
    }
   ],
   "source": [
    "# Resumdo da CNN\n",
    "model.summary()"
   ]
  },
  {
   "cell_type": "code",
   "execution_count": 47,
   "metadata": {},
   "outputs": [
    {
     "name": "stdout",
     "output_type": "stream",
     "text": [
      "Epoch 1/30\n"
     ]
    },
    {
     "name": "stderr",
     "output_type": "stream",
     "text": [
      "C:\\Users\\user\\Anaconda3\\envs\\python-cvcourse\\lib\\site-packages\\keras_preprocessing\\image.py:988: UserWarning: This ImageDataGenerator specifies `featurewise_center`, but it hasn't been fit on any training data. Fit it first by calling `.fit(numpy_data)`.\n",
      "  warnings.warn('This ImageDataGenerator specifies '\n"
     ]
    },
    {
     "name": "stdout",
     "output_type": "stream",
     "text": [
      "150/150 [==============================] - 22s 150ms/step - loss: 0.5643 - acc: 0.7496\n",
      "Epoch 2/30\n",
      "150/150 [==============================] - 21s 141ms/step - loss: 0.5589 - acc: 0.7502\n",
      "Epoch 3/30\n",
      "150/150 [==============================] - 21s 141ms/step - loss: 0.5439 - acc: 0.7499\n",
      "Epoch 4/30\n",
      "150/150 [==============================] - 21s 143ms/step - loss: 0.5081 - acc: 0.7628\n",
      "Epoch 5/30\n",
      "150/150 [==============================] - 21s 143ms/step - loss: 0.4626 - acc: 0.7955\n",
      "Epoch 6/30\n",
      "150/150 [==============================] - 21s 142ms/step - loss: 0.4477 - acc: 0.7979\n",
      "Epoch 7/30\n",
      "150/150 [==============================] - 21s 142ms/step - loss: 0.4181 - acc: 0.8161\n",
      "Epoch 8/30\n",
      "150/150 [==============================] - 21s 143ms/step - loss: 0.3903 - acc: 0.8289\n",
      "Epoch 9/30\n",
      "150/150 [==============================] - 22s 144ms/step - loss: 0.3669 - acc: 0.8451\n",
      "Epoch 10/30\n",
      "150/150 [==============================] - 21s 142ms/step - loss: 0.3508 - acc: 0.8540\n",
      "Epoch 11/30\n",
      "150/150 [==============================] - 22s 144ms/step - loss: 0.3261 - acc: 0.8595\n",
      "Epoch 12/30\n",
      "150/150 [==============================] - 21s 143ms/step - loss: 0.3212 - acc: 0.8625\n",
      "Epoch 13/30\n",
      "150/150 [==============================] - 22s 144ms/step - loss: 0.3013 - acc: 0.8723\n",
      "Epoch 14/30\n",
      "150/150 [==============================] - 22s 149ms/step - loss: 0.2854 - acc: 0.8830\n",
      "Epoch 15/30\n",
      "150/150 [==============================] - 23s 155ms/step - loss: 0.2738 - acc: 0.8849\n",
      "Epoch 16/30\n",
      "150/150 [==============================] - 22s 148ms/step - loss: 0.2791 - acc: 0.8847\n",
      "Epoch 17/30\n",
      "150/150 [==============================] - 21s 142ms/step - loss: 0.2623 - acc: 0.8922\n",
      "Epoch 18/30\n",
      "150/150 [==============================] - 22s 149ms/step - loss: 0.2723 - acc: 0.8874\n",
      "Epoch 19/30\n",
      "150/150 [==============================] - 22s 144ms/step - loss: 0.2507 - acc: 0.8963\n",
      "Epoch 20/30\n",
      "150/150 [==============================] - 22s 144ms/step - loss: 0.2503 - acc: 0.8993\n",
      "Epoch 21/30\n",
      "150/150 [==============================] - 21s 143ms/step - loss: 0.2469 - acc: 0.8943\n",
      "Epoch 22/30\n",
      "150/150 [==============================] - 22s 146ms/step - loss: 0.2210 - acc: 0.9091\n",
      "Epoch 23/30\n",
      "150/150 [==============================] - 22s 145ms/step - loss: 0.2401 - acc: 0.9002\n",
      "Epoch 24/30\n",
      "150/150 [==============================] - 22s 148ms/step - loss: 0.2189 - acc: 0.9119\n",
      "Epoch 25/30\n",
      "150/150 [==============================] - 22s 146ms/step - loss: 0.2218 - acc: 0.9100\n",
      "Epoch 26/30\n",
      "150/150 [==============================] - 22s 146ms/step - loss: 0.2192 - acc: 0.9081\n",
      "Epoch 27/30\n",
      "150/150 [==============================] - 22s 146ms/step - loss: 0.2163 - acc: 0.9104\n",
      "Epoch 28/30\n",
      "150/150 [==============================] - 22s 149ms/step - loss: 0.2050 - acc: 0.9174\n",
      "Epoch 29/30\n",
      "150/150 [==============================] - 22s 145ms/step - loss: 0.2202 - acc: 0.9108\n",
      "Epoch 30/30\n",
      "150/150 [==============================] - 22s 146ms/step - loss: 0.2101 - acc: 0.9137\n"
     ]
    }
   ],
   "source": [
    "# treinando a CNN\n",
    "results = model.fit_generator(train_img_gen,\n",
    "                              epochs=30,\n",
    "                              steps_per_epoch=150,\n",
    "                              validation_steps=12)"
   ]
  },
  {
   "cell_type": "code",
   "execution_count": 29,
   "metadata": {},
   "outputs": [
    {
     "data": {
      "text/plain": [
       "[0.8339583333333334,\n",
       " 0.8498958333333333,\n",
       " 0.8517708333333334,\n",
       " 0.8554166666666667,\n",
       " 0.8557291666666667,\n",
       " 0.8760416666666667,\n",
       " 0.87,\n",
       " 0.8730208333333334,\n",
       " 0.8815625,\n",
       " 0.8784375,\n",
       " 0.8805208333333333,\n",
       " 0.8857291666666667,\n",
       " 0.8938541666666666,\n",
       " 0.8954166666666666,\n",
       " 0.8916666666666667,\n",
       " 0.9007291666666667,\n",
       " 0.8998958333333333,\n",
       " 0.8980208333333334,\n",
       " 0.8997916666666667,\n",
       " 0.9029166666666667,\n",
       " 0.9085416666666667,\n",
       " 0.9075,\n",
       " 0.9108333333333334,\n",
       " 0.9121875,\n",
       " 0.9151041666666667,\n",
       " 0.9095833333333333,\n",
       " 0.915625,\n",
       " 0.91,\n",
       " 0.9192708333333334,\n",
       " 0.9153125]"
      ]
     },
     "execution_count": 29,
     "metadata": {},
     "output_type": "execute_result"
    }
   ],
   "source": [
    "results.history['acc']"
   ]
  },
  {
   "cell_type": "code",
   "execution_count": 48,
   "metadata": {},
   "outputs": [
    {
     "data": {
      "text/plain": [
       "[<matplotlib.lines.Line2D at 0x1aebae22358>]"
      ]
     },
     "execution_count": 48,
     "metadata": {},
     "output_type": "execute_result"
    },
    {
     "data": {
      "image/png": "[encoded data removed]",
      "text/plain": [
       "<Figure size 432x288 with 1 Axes>"
      ]
     },
     "metadata": {
      "needs_background": "light"
     },
     "output_type": "display_data"
    }
   ],
   "source": [
    "# Percebemos que depois do 25 epoch a rede praticamente chega a seu plato\n",
    "plt.plot(results.history['acc'])"
   ]
  },
  {
   "cell_type": "code",
   "execution_count": 31,
   "metadata": {},
   "outputs": [],
   "source": [
    "# Salvando o modelo, vai que da problema\n",
    "model.save('CNN_teste.h5')"
   ]
  },
  {
   "cell_type": "markdown",
   "metadata": {},
   "source": [
    "# Hora de rodar os testes, para isso vamos pre-processara as imagens da pasta teste"
   ]
  },
  {
   "cell_type": "code",
   "execution_count": 54,
   "metadata": {},
   "outputs": [],
   "source": [
    "from keras.preprocessing import image\n",
    "import PIL"
   ]
  },
  {
   "cell_type": "markdown",
   "metadata": {},
   "source": [
    "#### Buscando as imagens e tranformando em arrays no formato para nossa CNN ler"
   ]
  },
  {
   "cell_type": "code",
   "execution_count": 73,
   "metadata": {},
   "outputs": [],
   "source": [
    "path = 'c:/Users/user/NN_Rotate/DATA/test'\n",
    "images = []\n",
    "for img in os.listdir(path):\n",
    "    img = 'c:/Users/user/NN_Rotate/DATA/test/{}'.format(img)\n",
    "    img = image.load_img(img, target_size=(64,64))\n",
    "    img = image.img_to_array(img)\n",
    "    img = np.expand_dims(img,axis=0)\n",
    "    img = img/255\n",
    "    images.append(img)"
   ]
  },
  {
   "cell_type": "markdown",
   "metadata": {},
   "source": [
    "#### Criando o arquivo com a predicao"
   ]
  },
  {
   "cell_type": "code",
   "execution_count": 77,
   "metadata": {},
   "outputs": [],
   "source": [
    "images= np.vstack(images)\n",
    "classes=model.predict_classes(images)"
   ]
  },
  {
   "cell_type": "code",
   "execution_count": 289,
   "metadata": {},
   "outputs": [
    {
     "data": {
      "text/plain": [
       "True"
      ]
     },
     "execution_count": 289,
     "metadata": {},
     "output_type": "execute_result"
    }
   ],
   "source": [
    "# Checando tamanho para poder fazer o looping\n",
    "len(images) == len(classes)"
   ]
  },
  {
   "cell_type": "code",
   "execution_count": 290,
   "metadata": {},
   "outputs": [
    {
     "data": {
      "text/plain": [
       "array([0, 2, 1, 1, 1, 1, 0, 0, 3, 2], dtype=int64)"
      ]
     },
     "execution_count": 290,
     "metadata": {},
     "output_type": "execute_result"
    }
   ],
   "source": [
    "classes[0:10]"
   ]
  },
  {
   "cell_type": "code",
   "execution_count": 88,
   "metadata": {},
   "outputs": [
    {
     "data": {
      "text/plain": [
       "{'rotated_left': 0, 'rotated_right': 1, 'upright': 2, 'upside_down': 3}"
      ]
     },
     "execution_count": 88,
     "metadata": {},
     "output_type": "execute_result"
    }
   ],
   "source": [
    "Checando as classes para garantir\n",
    "train_img_gen.class_indices"
   ]
  },
  {
   "cell_type": "markdown",
   "metadata": {},
   "source": [
    "## Decobrindo a melhor forma de rotacionar"
   ]
  },
  {
   "cell_type": "code",
   "execution_count": 269,
   "metadata": {},
   "outputs": [],
   "source": [
    "img_test = cv2.imread('DATA/train/rotated_left/0-10110600_1985-09-17_2012.jpg')"
   ]
  },
  {
   "cell_type": "code",
   "execution_count": 270,
   "metadata": {},
   "outputs": [
    {
     "data": {
      "text/plain": [
       "<matplotlib.image.AxesImage at 0x1aef1435a58>"
      ]
     },
     "execution_count": 270,
     "metadata": {},
     "output_type": "execute_result"
    },
    {
     "data": {
      "image/png": "[encoded data removed]",
      "text/plain": [
       "<Figure size 432x288 with 1 Axes>"
      ]
     },
     "metadata": {
      "needs_background": "light"
     },
     "output_type": "display_data"
    }
   ],
   "source": [
    "plt.imshow(img_test)"
   ]
  },
  {
   "cell_type": "code",
   "execution_count": 265,
   "metadata": {},
   "outputs": [],
   "source": [
    "rotate = cv2.flip(img_test,-1)"
   ]
  },
  {
   "cell_type": "code",
   "execution_count": 177,
   "metadata": {},
   "outputs": [],
   "source": [
    "rotate2 =rotateImage(img_test,180)"
   ]
  },
  {
   "cell_type": "code",
   "execution_count": 271,
   "metadata": {},
   "outputs": [],
   "source": [
    "rotate2 = cv2.transpose(img_test)"
   ]
  },
  {
   "cell_type": "code",
   "execution_count": 250,
   "metadata": {},
   "outputs": [],
   "source": [
    "rotate2 = cv2.flip(rotate2,0)"
   ]
  },
  {
   "cell_type": "code",
   "execution_count": 272,
   "metadata": {},
   "outputs": [
    {
     "data": {
      "text/plain": [
       "<matplotlib.image.AxesImage at 0x1aef14794a8>"
      ]
     },
     "execution_count": 272,
     "metadata": {},
     "output_type": "execute_result"
    },
    {
     "data": {
      "image/png": "[encoded data removed]",
      "text/plain": [
       "<Figure size 432x288 with 1 Axes>"
      ]
     },
     "metadata": {
      "needs_background": "light"
     },
     "output_type": "display_data"
    }
   ],
   "source": [
    "plt.imshow(rotate2)"
   ]
  },
  {
   "cell_type": "code",
   "execution_count": 97,
   "metadata": {},
   "outputs": [
    {
     "data": {
      "text/plain": [
       "True"
      ]
     },
     "execution_count": 97,
     "metadata": {},
     "output_type": "execute_result"
    }
   ],
   "source": [
    "cv2.imwrite('DATA/TESTE.jpeg',rotate1)"
   ]
  },
  {
   "cell_type": "markdown",
   "metadata": {},
   "source": [
    "# Rotacionando as imagens e colocando as mesmas na pasta"
   ]
  },
  {
   "cell_type": "code",
   "execution_count": 294,
   "metadata": {},
   "outputs": [],
   "source": [
    "label = []\n",
    "fn = []\n",
    "\n",
    "for i,file in enumerate(os.listdir(path)):\n",
    "    \n",
    "    img = cv2.imread('c:/Users/user/NN_Rotate/DATA/test/{}'.format(file))\n",
    "    \n",
    "    if classes[i] == 1:\n",
    "        trans =cv2.transpose(img)\n",
    "        img = cv2.flip(trans,0)\n",
    "        lab = 'rotated_right'\n",
    "    \n",
    "    if classes[i] == 3:\n",
    "        img = cv2.flip(img,0)\n",
    "        lab = 'upside_down'\n",
    "    \n",
    "    if classes[i] == 0:\n",
    "        img = cv2.transpose(img)\n",
    "        lab = 'rotated_left'\n",
    "    \n",
    "    else:\n",
    "        lab = 'upright'\n",
    "    #saving now\n",
    "    cv2.imwrite('DATA/result/{}'.format(file), img)\n",
    "    fn.append(file)\n",
    "    label.append(lab)"
   ]
  },
  {
   "cell_type": "code",
   "execution_count": 292,
   "metadata": {},
   "outputs": [
    {
     "data": {
      "text/plain": [
       "{'rotated_left': 0, 'rotated_right': 1, 'upright': 2, 'upside_down': 3}"
      ]
     },
     "execution_count": 292,
     "metadata": {},
     "output_type": "execute_result"
    }
   ],
   "source": [
    "train_img_gen.class_indices"
   ]
  },
  {
   "cell_type": "code",
   "execution_count": 307,
   "metadata": {},
   "outputs": [],
   "source": [
    "# Criando o dataframe de testes"
   ]
  },
  {
   "cell_type": "code",
   "execution_count": 296,
   "metadata": {},
   "outputs": [
    {
     "data": {
      "text/plain": [
       "5361"
      ]
     },
     "execution_count": 296,
     "metadata": {},
     "output_type": "execute_result"
    }
   ],
   "source": [
    "len(label)"
   ]
  },
  {
   "cell_type": "code",
   "execution_count": 298,
   "metadata": {},
   "outputs": [
    {
     "data": {
      "text/plain": [
       "5361"
      ]
     },
     "execution_count": 298,
     "metadata": {},
     "output_type": "execute_result"
    }
   ],
   "source": [
    "len(fn)"
   ]
  },
  {
   "cell_type": "code",
   "execution_count": 302,
   "metadata": {},
   "outputs": [],
   "source": [
    "df = pd.DataFrame({'fn':fn,'label':label})"
   ]
  },
  {
   "cell_type": "code",
   "execution_count": 303,
   "metadata": {},
   "outputs": [
    {
     "data": {
      "text/html": [
       "<div>\n",
       "<style scoped>\n",
       "    .dataframe tbody tr th:only-of-type {\n",
       "        vertical-align: middle;\n",
       "    }\n",
       "\n",
       "    .dataframe tbody tr th {\n",
       "        vertical-align: top;\n",
       "    }\n",
       "\n",
       "    .dataframe thead th {\n",
       "        text-align: right;\n",
       "    }\n",
       "</style>\n",
       "<table border=\"1\" class=\"dataframe\">\n",
       "  <thead>\n",
       "    <tr style=\"text-align: right;\">\n",
       "      <th></th>\n",
       "      <th>fn</th>\n",
       "      <th>label</th>\n",
       "    </tr>\n",
       "  </thead>\n",
       "  <tbody>\n",
       "    <tr>\n",
       "      <th>0</th>\n",
       "      <td>90-10184590_1979-06-16_2006.jpg</td>\n",
       "      <td>rotated_left</td>\n",
       "    </tr>\n",
       "    <tr>\n",
       "      <th>1</th>\n",
       "      <td>90-1019890_1931-08-10_1978.jpg</td>\n",
       "      <td>upright</td>\n",
       "    </tr>\n",
       "    <tr>\n",
       "      <th>2</th>\n",
       "      <td>90-10241990_1984-11-28_2007.jpg</td>\n",
       "      <td>upright</td>\n",
       "    </tr>\n",
       "    <tr>\n",
       "      <th>3</th>\n",
       "      <td>90-102690_1966-09-09_2011.jpg</td>\n",
       "      <td>upright</td>\n",
       "    </tr>\n",
       "    <tr>\n",
       "      <th>4</th>\n",
       "      <td>90-10303590_1983-01-26_2010.jpg</td>\n",
       "      <td>upright</td>\n",
       "    </tr>\n",
       "  </tbody>\n",
       "</table>\n",
       "</div>"
      ],
      "text/plain": [
       "                                fn         label\n",
       "0  90-10184590_1979-06-16_2006.jpg  rotated_left\n",
       "1   90-1019890_1931-08-10_1978.jpg       upright\n",
       "2  90-10241990_1984-11-28_2007.jpg       upright\n",
       "3    90-102690_1966-09-09_2011.jpg       upright\n",
       "4  90-10303590_1983-01-26_2010.jpg       upright"
      ]
     },
     "execution_count": 303,
     "metadata": {},
     "output_type": "execute_result"
    }
   ],
   "source": [
    "df.head()"
   ]
  },
  {
   "cell_type": "code",
   "execution_count": 306,
   "metadata": {},
   "outputs": [],
   "source": [
    "df.to_csv('test.preds.csv')"
   ]
  },
  {
   "cell_type": "code",
   "execution_count": null,
   "metadata": {},
   "outputs": [],
   "source": []
  }
 ],
 "metadata": {
  "kernelspec": {
   "display_name": "Python 3",
   "language": "python",
   "name": "python3"
  },
  "language_info": {
   "codemirror_mode": {
    "name": "ipython",
    "version": 3
   },
   "file_extension": ".py",
   "mimetype": "text/x-python",
   "name": "python",
   "nbconvert_exporter": "python",
   "pygments_lexer": "ipython3",
   "version": "3.6.6"
  }
 },
 "nbformat": 4,
 "nbformat_minor": 2
}
